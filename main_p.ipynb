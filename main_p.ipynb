{
 "cells": [
  {
   "cell_type": "code",
   "execution_count": null,
   "metadata": {},
   "outputs": [],
   "source": [
    "from Otimiza_Classe import otimizador\n",
    "from perfil import perfil_info"
   ]
  },
  {
   "cell_type": "code",
   "execution_count": 2,
   "metadata": {},
   "outputs": [],
   "source": [
    "matriz_perfis = []\n",
    "num_geracoes = 10\n",
    "num_filhos = 50"
   ]
  },
  {
   "cell_type": "code",
   "execution_count": 3,
   "metadata": {},
   "outputs": [
    {
     "name": "stderr",
     "output_type": "stream",
     "text": [
      "c:\\Users\\Jmano\\OneDrive - Universidade Federal do Ceará\\UFC\\Outros\\Projetos\\AEROMEC\\MDO\\OTMIZADOR_DE_PERFIL\\perfil.py:42: RuntimeWarning: More than 20 figures have been opened. Figures created through the pyplot interface (`matplotlib.pyplot.figure`) are retained until explicitly closed and may consume too much memory. (To control this warning, see the rcParam `figure.max_open_warning`). Consider using `matplotlib.pyplot.close()`.\n",
      "  pyplot.figure(figsize=(2*size,size))\n"
     ]
    }
   ],
   "source": [
    "perfis = otimizador.gera_perfis(2)\n",
    "matriz_perfis.append(perfis)"
   ]
  },
  {
   "cell_type": "code",
   "execution_count": 1,
   "metadata": {},
   "outputs": [
    {
     "ename": "NameError",
     "evalue": "name 'perfis' is not defined",
     "output_type": "error",
     "traceback": [
      "\u001b[1;31m---------------------------------------------------------------------------\u001b[0m",
      "\u001b[1;31mNameError\u001b[0m                                 Traceback (most recent call last)",
      "Cell \u001b[1;32mIn [1], line 1\u001b[0m\n\u001b[1;32m----> 1\u001b[0m perfis[\u001b[39m0\u001b[39m]\u001b[39m.\u001b[39minformacoes_perfil()\n",
      "\u001b[1;31mNameError\u001b[0m: name 'perfis' is not defined"
     ]
    }
   ],
   "source": [
    "perfis[0].informacoes_perfil()"
   ]
  },
  {
   "cell_type": "code",
   "execution_count": 15,
   "metadata": {},
   "outputs": [
    {
     "name": "stdout",
     "output_type": "stream",
     "text": [
      "[[-0.002809999999999999, <perfil.perfil_info object at 0x0000019265B86EF0>], [0.09362, <perfil.perfil_info object at 0x00000192653ED210>], [0.04404, <perfil.perfil_info object at 0x0000019264C1F190>], [0.08201, <perfil.perfil_info object at 0x0000019264DED6F0>], [0.51095, <perfil.perfil_info object at 0x0000019262AE9F60>], [0.16852, <perfil.perfil_info object at 0x0000019265FD3FA0>], [0.17518, <perfil.perfil_info object at 0x000001926829E590>], [0.5539799999999999, <perfil.perfil_info object at 0x00000192683227A0>], [0.30689, <perfil.perfil_info object at 0x000001926834BD30>], [0.20489, <perfil.perfil_info object at 0x000001926837FB20>], [0.11410000000000001, <perfil.perfil_info object at 0x0000019268647460>], [0.24709, <perfil.perfil_info object at 0x00000192653107C0>], [0.17109, <perfil.perfil_info object at 0x0000019265F50940>], [0.23670999999999998, <perfil.perfil_info object at 0x00000192654138E0>], [0.08016, <perfil.perfil_info object at 0x0000019265BD1C30>], [0.011569999999999999, <perfil.perfil_info object at 0x0000019265B33100>], [0.03736, <perfil.perfil_info object at 0x0000019264D1A050>], [0.11793999999999999, <perfil.perfil_info object at 0x000001926558B0A0>], [0.04045, <perfil.perfil_info object at 0x0000019265E80AC0>], [-0.007639999999999999, <perfil.perfil_info object at 0x0000019265A91DB0>], [0.25594, <perfil.perfil_info object at 0x0000019265A92F20>], [0.17458, <perfil.perfil_info object at 0x0000019268731780>], [0.12045, <perfil.perfil_info object at 0x0000019265A133D0>], [0.07921, <perfil.perfil_info object at 0x0000019268A35E40>], [0.03515, <perfil.perfil_info object at 0x0000019268AB57B0>], [0.31474, <perfil.perfil_info object at 0x0000019265413F10>], [0.05228, <perfil.perfil_info object at 0x0000019262A8A680>], [0.011219999999999999, <perfil.perfil_info object at 0x0000019264DCDA50>], [0.55327, <perfil.perfil_info object at 0x0000019268E0B430>], [0.01926, <perfil.perfil_info object at 0x0000019268B32E30>], [0.20981, <perfil.perfil_info object at 0x0000019268F73100>], [0.49892000000000003, <perfil.perfil_info object at 0x0000019268FB99F0>], [0.11164, <perfil.perfil_info object at 0x000001926C2734C0>], [0.010629999999999999, <perfil.perfil_info object at 0x000001926C2E5990>], [0.12597999999999998, <perfil.perfil_info object at 0x000001926C2C1F60>], [0.04383, <perfil.perfil_info object at 0x000001926C3B65C0>], [0.24266000000000001, <perfil.perfil_info object at 0x000001926C6EB070>], [0.01412, <perfil.perfil_info object at 0x000001926C76A380>], [0.01563, <perfil.perfil_info object at 0x000001926C7EAAD0>], [0.23567000000000002, <perfil.perfil_info object at 0x000001926CA6A4A0>], [0.008230000000000001, <perfil.perfil_info object at 0x000001926CB07910>], [0.31792, <perfil.perfil_info object at 0x000001926CB6AAD0>], [0.012169999999999999, <perfil.perfil_info object at 0x000001926CBE2230>], [-0.0014899999999999991, <perfil.perfil_info object at 0x0000019265B330A0>], [0.01514, <perfil.perfil_info object at 0x0000019268F54A00>], [0.34659999999999996, <perfil.perfil_info object at 0x000001926C2E7D30>], [0.21268, <perfil.perfil_info object at 0x000001926CF5BF70>], [0.14409999999999998, <perfil.perfil_info object at 0x000001926F263C70>], [0.14835, <perfil.perfil_info object at 0x000001926F2A7880>], [0.10301, <perfil.perfil_info object at 0x000001926F380AF0>]]\n"
     ]
    }
   ],
   "source": [
    "for i in range(num_geracoes):\n",
    "    perfis = otimizador.evolui(perfis, num_filhos)\n",
    "    matriz_perfis.append(perfis)"
   ]
  }
 ],
 "metadata": {
  "kernelspec": {
   "display_name": "Python 3",
   "language": "python",
   "name": "python3"
  },
  "language_info": {
   "codemirror_mode": {
    "name": "ipython",
    "version": 3
   },
   "file_extension": ".py",
   "mimetype": "text/x-python",
   "name": "python",
   "nbconvert_exporter": "python",
   "pygments_lexer": "ipython3",
   "version": "3.10.9 (tags/v3.10.9:1dd9be6, Dec  6 2022, 20:01:21) [MSC v.1934 64 bit (AMD64)]"
  },
  "orig_nbformat": 4,
  "vscode": {
   "interpreter": {
    "hash": "84a78b58caa132a7d8864d224ab9f9d36a09b21dd3913a20063b696b83e353fd"
   }
  }
 },
 "nbformat": 4,
 "nbformat_minor": 2
}
